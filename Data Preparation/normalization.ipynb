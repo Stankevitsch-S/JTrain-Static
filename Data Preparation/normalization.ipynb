{
 "metadata": {
  "language_info": {
   "codemirror_mode": {
    "name": "ipython",
    "version": 3
   },
   "file_extension": ".py",
   "mimetype": "text/x-python",
   "name": "python",
   "nbconvert_exporter": "python",
   "pygments_lexer": "ipython3",
   "version": 3
  },
  "orig_nbformat": 2
 },
 "nbformat": 4,
 "nbformat_minor": 2,
 "cells": [
  {
   "cell_type": "code",
   "execution_count": null,
   "metadata": {},
   "outputs": [],
   "source": [
    "# Dependencies.\n",
    "import pandas as pd"
   ]
  },
  {
   "cell_type": "code",
   "execution_count": null,
   "metadata": {},
   "outputs": [],
   "source": [
    "# Load clue data file.\n",
    "clueDf = pd.read_csv(\"clueAnswers.csv\",encoding=\"utf8\",index_col=0)"
   ]
  },
  {
   "cell_type": "code",
   "execution_count": null,
   "metadata": {},
   "outputs": [],
   "source": [
    "# During manual analysis of clues, some were found that referenced images with missing links (thus not being picked up during parsing).\n",
    "# Some categories were also found to be to difficult to reassign. Both were assigned category \"REMOVE\".\n",
    "# We can remove the \"REMOVE\" columns from the data files used for the web application, until a proper fix can be found.\n",
    "clueDf = clueDf.loc[clueDf[\"categoryAssigned\"]!=\"REMOVE\"]"
   ]
  },
  {
   "cell_type": "code",
   "execution_count": null,
   "metadata": {},
   "outputs": [],
   "source": [
    "# Building the normalized category data file.\n",
    "categoryIDList = []\n",
    "roundList = []\n",
    "categoryList = []\n",
    "categoryCommentList = []\n",
    "categoryAssignedList = []\n",
    "subcategoryAssignedList = []\n",
    "questionSetList = []\n",
    "for i in clueDf['categoryID'].unique():\n",
    "    categoryIDList.append(i)\n",
    "    roundList.append(clueDf.loc[clueDf['categoryID'] == i]['round'].tolist()[0])\n",
    "    categoryList.append(clueDf.loc[clueDf['categoryID'] == i]['category'].tolist()[0])\n",
    "    categoryCommentList.append(clueDf.loc[clueDf['categoryID'] == i]['categoryComment'].tolist()[0])\n",
    "    categoryAssignedList.append(clueDf.loc[clueDf['categoryID'] == i]['categoryAssigned'].tolist()[0])\n",
    "    subcategoryAssignedList.append(clueDf.loc[clueDf['categoryID'] == i]['subcategoryAssigned'].tolist()[0])\n",
    "    match = clueDf.loc[clueDf['categoryID'] == i]['match'].tolist()[0]\n",
    "    if match > 0.6:\n",
    "        questionSetList.append(1)\n",
    "    elif match > 0.4:\n",
    "        questionSetList.append(2)\n",
    "    else:\n",
    "        questionSetList.append(3)\n",
    "categoryDf = pd.DataFrame()\n",
    "categoryDf[\"categoryID\"] = categoryIDList\n",
    "categoryDf[\"round\"] = roundList\n",
    "categoryDf[\"category\"] = categoryList\n",
    "categoryDf[\"categoryComment\"] = categoryCommentList\n",
    "categoryDf[\"categoryAssigned\"] = categoryAssignedList\n",
    "categoryDf[\"subcategoryAssigned\"] = subcategoryAssignedList\n",
    "categoryDf[\"questionSet\"] = questionSetList\n",
    "categoryDf.set_index(\"categoryID\",inplace=True)\n",
    "# Build the restricted question set dataframes.\n",
    "categoryDf2 = categoryDf[categoryDf[\"questionSet\"]<3].copy()\n",
    "categoryDf1 = categoryDf[categoryDf[\"questionSet\"]<2].copy()\n",
    "# Remove the questionSet column to save space.\n",
    "categoryDf.drop(columns=[\"questionSet\"],inplace=True))\n",
    "categoryDf2.drop(columns=[\"questionSet\"],inplace=True))\n",
    "categoryDf1.drop(columns=[\"questionSet\"],inplace=True))\n",
    "# Adjust the paths as you see fit.\n",
    "categoryDf.to_csv(\"category3.csv\")\n",
    "categoryDf2.to_csv(\"category2.csv\")\n",
    "categoryDf1.to_csv(\"category1.csv\")"
   ]
  },
  {
   "cell_type": "code",
   "execution_count": null,
   "metadata": {},
   "outputs": [],
   "source": [
    "# Load metadata file. Now that we are finished with manual checking we no longer need a filename column.\n",
    "metadataDf = pd.read_csv(\"metadata.csv\",encoding=\"utf8\",index_col=\"showID\")\n",
    "showIDList = []\n",
    "for i in clueDf[\"filename\"].tolist():\n",
    "    showIDList.append(metadataDf[metadataDf[\"filename\"]==i][\"showID\"].values[0])\n",
    "clueDf['showID'] = showIDList\n",
    "metadataDf.drop(columns=[\"filename\"],inplace=True))\n",
    "metadataDf.to_csv(\"metadata.csv\")"
   ]
  },
  {
   "cell_type": "code",
   "execution_count": null,
   "metadata": {},
   "outputs": [],
   "source": [
    "# Keep only the columns unique to a clue.\n",
    "clueDf = clueDf[[\"clueID\",\"categoryID\",\"showID\",\"value\",\"clue\",\"answer1\",\"answer2\",\"answer3\",\"answer4\",\"answer5\",\"answer6\",\"answer7\",\"answer8\",\"answer9\",\"answer10\",\"answer11\"]]\n",
    "# This could have been done in parsing.ipynb as well.\n",
    "clueDf.set_index(\"clueID\",inplace=True)\n",
    "# Build restricted question set dataframes for clues.\n",
    "clueDf2 = clueDf[clueDf[\"categoryID\"].isin(categoryDf2.index.tolist())]\n",
    "clueDf1 = clueDf[clueDf[\"categoryID\"].isin(categoryDf1.index.tolist())]\n",
    "# Save files.\n",
    "clueDf.to_csv(\"clue3.csv\")\n",
    "clueDf2.to_csv(\"clue2.csv\")\n",
    "clueDf1.to_csv(\"clue1.csv\")"
   ]
  }
 ]
}